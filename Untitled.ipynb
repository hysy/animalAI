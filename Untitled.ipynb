{
 "cells": [
  {
   "cell_type": "code",
   "execution_count": 8,
   "metadata": {},
   "outputs": [],
   "source": [
    "from PIL import Image\n",
    "import os, glob\n",
    "import numpy as np \n",
    "from sklearn import cross_validation\n",
    "\n",
    "classes = ['monkey', 'boar', 'crow']\n",
    "num_classes = len(classes)\n",
    "image_size = 50\n",
    "\n",
    "# read image \n",
    "\n",
    "X = []\n",
    "Y = []\n",
    "for index, class_name in enumerate(classes):\n",
    "    photos_dir = './' + class_name\n",
    "    files = glob.glob(photos_dir + '/*.jpg')\n",
    "    for i, file in enumerate(files):\n",
    "        if i >= 200: break\n",
    "        image = Image.open(file)\n",
    "        image = image.convert('RGB') ## convert to RGB\n",
    "        image = image.resize((image_size, image_size))\n",
    "        data = np.asarray(image)\n",
    "        X.append(data)\n",
    "        Y.append(index)\n",
    "\n",
    "X = np.array(X)\n",
    "Y = np.array(Y)\n",
    "\n",
    "\n"
   ]
  },
  {
   "cell_type": "code",
   "execution_count": 9,
   "metadata": {},
   "outputs": [
    {
     "data": {
      "text/plain": [
       "array([[[173, 140, 109],\n",
       "        [143, 142, 122],\n",
       "        [207, 193, 148],\n",
       "        ...,\n",
       "        [ 44,  57,  31],\n",
       "        [ 48,  62,  39],\n",
       "        [ 50,  68,  44]],\n",
       "\n",
       "       [[ 55,  65,  12],\n",
       "        [121, 134,  81],\n",
       "        [208, 196, 146],\n",
       "        ...,\n",
       "        [ 45,  60,  39],\n",
       "        [ 46,  61,  40],\n",
       "        [ 53,  72,  50]],\n",
       "\n",
       "       [[113, 141, 101],\n",
       "        [125, 139, 103],\n",
       "        [196, 187, 156],\n",
       "        ...,\n",
       "        [ 50,  69,  50],\n",
       "        [ 48,  66,  44],\n",
       "        [ 51,  73,  52]],\n",
       "\n",
       "       ...,\n",
       "\n",
       "       [[ 38,  55,  39],\n",
       "        [ 33,  49,  36],\n",
       "        [ 28,  44,  31],\n",
       "        ...,\n",
       "        [ 45,  42,  25],\n",
       "        [ 50,  63,  37],\n",
       "        [142, 162, 137]],\n",
       "\n",
       "       [[ 38,  48,  40],\n",
       "        [ 30,  46,  35],\n",
       "        [ 34,  48,  35],\n",
       "        ...,\n",
       "        [ 49,  50,  34],\n",
       "        [ 70,  85,  66],\n",
       "        [152, 186, 149]],\n",
       "\n",
       "       [[ 34,  44,  36],\n",
       "        [ 33,  49,  38],\n",
       "        [ 40,  54,  41],\n",
       "        ...,\n",
       "        [ 56,  59,  48],\n",
       "        [ 79,  95,  69],\n",
       "        [146, 181, 141]]], dtype=uint8)"
      ]
     },
     "execution_count": 9,
     "metadata": {},
     "output_type": "execute_result"
    }
   ],
   "source": [
    "X[0]"
   ]
  },
  {
   "cell_type": "code",
   "execution_count": 10,
   "metadata": {},
   "outputs": [
    {
     "data": {
      "text/plain": [
       "548"
      ]
     },
     "execution_count": 10,
     "metadata": {},
     "output_type": "execute_result"
    }
   ],
   "source": [
    "len(X)"
   ]
  },
  {
   "cell_type": "code",
   "execution_count": 7,
   "metadata": {},
   "outputs": [
    {
     "data": {
      "text/plain": [
       "600"
      ]
     },
     "execution_count": 7,
     "metadata": {},
     "output_type": "execute_result"
    }
   ],
   "source": [
    "len(Y)"
   ]
  },
  {
   "cell_type": "code",
   "execution_count": null,
   "metadata": {},
   "outputs": [],
   "source": []
  }
 ],
 "metadata": {
  "kernelspec": {
   "display_name": "Python 3",
   "language": "python",
   "name": "python3"
  },
  "language_info": {
   "codemirror_mode": {
    "name": "ipython",
    "version": 3
   },
   "file_extension": ".py",
   "mimetype": "text/x-python",
   "name": "python",
   "nbconvert_exporter": "python",
   "pygments_lexer": "ipython3",
   "version": "3.6.6"
  }
 },
 "nbformat": 4,
 "nbformat_minor": 2
}
